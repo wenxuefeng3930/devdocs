{
  "cells": [
    {
      "cell_type": "code",
      "execution_count": null,
      "metadata": {
        "collapsed": false
      },
      "outputs": [],
      "source": [
        "%matplotlib inline"
      ]
    },
    {
      "cell_type": "markdown",
      "metadata": {},
      "source": [
        "\n# Legend Picking\n\nEnable picking on the legend to toggle the original line on and off\n\n<div class=\"alert alert-info\"><h4>Note</h4><p>This example exercises the interactive capabilities of Matplotlib, and this\n    will not appear in the static documentation. Please run this code on your\n    machine to see the interactivity.\n\n    You can copy and paste individual parts, or download the entire example\n    using the link at the bottom of the page.</p></div>\n"
      ]
    },
    {
      "cell_type": "code",
      "execution_count": null,
      "metadata": {
        "collapsed": false
      },
      "outputs": [],
      "source": [
        "import numpy as np\nimport matplotlib.pyplot as plt\n\n\nt = np.linspace(0, 1)\ny1 = 2 * np.sin(2*np.pi*t)\ny2 = 4 * np.sin(2*np.pi*2*t)\n\nfig, ax = plt.subplots()\nax.set_title('Click on legend line to toggle line on/off')\nline1, = ax.plot(t, y1, lw=2, label='1 Hz')\nline2, = ax.plot(t, y2, lw=2, label='2 Hz')\nleg = ax.legend(fancybox=True, shadow=True)\n\nlines = [line1, line2]\nlined = {}  # Will map legend lines to original lines.\nfor legline, origline in zip(leg.get_lines(), lines):\n    legline.set_picker(True)  # Enable picking on the legend line.\n    lined[legline] = origline\n\n\ndef on_pick(event):\n    # On the pick event, find the original line corresponding to the legend\n    # proxy line, and toggle its visibility.\n    legline = event.artist\n    origline = lined[legline]\n    visible = not origline.get_visible()\n    origline.set_visible(visible)\n    # Change the alpha on the line in the legend so we can see what lines\n    # have been toggled.\n    legline.set_alpha(1.0 if visible else 0.2)\n    fig.canvas.draw()\n\nfig.canvas.mpl_connect('pick_event', on_pick)\nplt.show()"
      ]
    }
  ],
  "metadata": {
    "kernelspec": {
      "display_name": "Python 3",
      "language": "python",
      "name": "python3"
    },
    "language_info": {
      "codemirror_mode": {
        "name": "ipython",
        "version": 3
      },
      "file_extension": ".py",
      "mimetype": "text/x-python",
      "name": "python",
      "nbconvert_exporter": "python",
      "pygments_lexer": "ipython3",
      "version": "3.8.12"
    }
  },
  "nbformat": 4,
  "nbformat_minor": 0
}