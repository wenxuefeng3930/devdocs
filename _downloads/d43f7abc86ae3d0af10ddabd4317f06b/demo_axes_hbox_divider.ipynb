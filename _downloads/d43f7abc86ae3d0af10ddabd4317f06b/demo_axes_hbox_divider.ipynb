{
  "cells": [
    {
      "cell_type": "code",
      "execution_count": null,
      "metadata": {
        "collapsed": false
      },
      "outputs": [],
      "source": [
        "%matplotlib inline"
      ]
    },
    {
      "cell_type": "markdown",
      "metadata": {},
      "source": [
        "\n# `.HBoxDivider` demo\n\nUsing an `.HBoxDivider` to arrange subplots.\n"
      ]
    },
    {
      "cell_type": "code",
      "execution_count": null,
      "metadata": {
        "collapsed": false
      },
      "outputs": [],
      "source": [
        "import numpy as np\nimport matplotlib.pyplot as plt\nfrom mpl_toolkits.axes_grid1.axes_divider import HBoxDivider\nimport mpl_toolkits.axes_grid1.axes_size as Size\n\n\ndef make_heights_equal(fig, rect, ax1, ax2, pad):\n    # pad in inches\n    divider = HBoxDivider(\n        fig, rect,\n        horizontal=[Size.AxesX(ax1), Size.Fixed(pad), Size.AxesX(ax2)],\n        vertical=[Size.AxesY(ax1), Size.Scaled(1), Size.AxesY(ax2)])\n    ax1.set_axes_locator(divider.new_locator(0))\n    ax2.set_axes_locator(divider.new_locator(2))\n\n\nif __name__ == \"__main__\":\n\n    arr1 = np.arange(20).reshape((4, 5))\n    arr2 = np.arange(20).reshape((5, 4))\n\n    fig, (ax1, ax2) = plt.subplots(1, 2)\n    ax1.imshow(arr1)\n    ax2.imshow(arr2)\n\n    make_heights_equal(fig, 111, ax1, ax2, pad=0.5)\n\n    fig.text(.5, .5,\n             \"Both axes' location are adjusted\\n\"\n             \"so that they have equal heights\\n\"\n             \"while maintaining their aspect ratios\",\n             va=\"center\", ha=\"center\",\n             bbox=dict(boxstyle=\"round, pad=1\", facecolor=\"w\"))\n\n    plt.show()"
      ]
    }
  ],
  "metadata": {
    "kernelspec": {
      "display_name": "Python 3",
      "language": "python",
      "name": "python3"
    },
    "language_info": {
      "codemirror_mode": {
        "name": "ipython",
        "version": 3
      },
      "file_extension": ".py",
      "mimetype": "text/x-python",
      "name": "python",
      "nbconvert_exporter": "python",
      "pygments_lexer": "ipython3",
      "version": "3.8.12"
    }
  },
  "nbformat": 4,
  "nbformat_minor": 0
}