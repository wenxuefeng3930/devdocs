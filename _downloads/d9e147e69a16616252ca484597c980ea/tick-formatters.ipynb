{
  "cells": [
    {
      "cell_type": "code",
      "execution_count": null,
      "metadata": {
        "collapsed": false
      },
      "outputs": [],
      "source": [
        "%matplotlib inline"
      ]
    },
    {
      "cell_type": "markdown",
      "metadata": {},
      "source": [
        "\n# Tick formatters\n\nTick formatters define how the numeric value associated with a tick on an axis\nis formatted as a string.\n\nThis example illustrates the usage and effect of the most common formatters.\n"
      ]
    },
    {
      "cell_type": "code",
      "execution_count": null,
      "metadata": {
        "collapsed": false
      },
      "outputs": [],
      "source": [
        "import matplotlib.pyplot as plt\nfrom matplotlib import ticker\n\n\ndef setup(ax, title):\n    \"\"\"Set up common parameters for the Axes in the example.\"\"\"\n    # only show the bottom spine\n    ax.yaxis.set_major_locator(ticker.NullLocator())\n    ax.spines.right.set_color('none')\n    ax.spines.left.set_color('none')\n    ax.spines.top.set_color('none')\n\n    # define tick positions\n    ax.xaxis.set_major_locator(ticker.MultipleLocator(1.00))\n    ax.xaxis.set_minor_locator(ticker.MultipleLocator(0.25))\n\n    ax.xaxis.set_ticks_position('bottom')\n    ax.tick_params(which='major', width=1.00, length=5)\n    ax.tick_params(which='minor', width=0.75, length=2.5, labelsize=10)\n    ax.set_xlim(0, 5)\n    ax.set_ylim(0, 1)\n    ax.text(0.0, 0.2, title, transform=ax.transAxes,\n            fontsize=14, fontname='Monospace', color='tab:blue')"
      ]
    },
    {
      "cell_type": "markdown",
      "metadata": {},
      "source": [
        "Tick formatters can be set in one of two ways, either by passing a ``str``\nor function to `~.Axis.set_major_formatter` or `~.Axis.set_minor_formatter`,\nor by creating an instance of one of the various `~.ticker.Formatter` classes\nand providing that to `~.Axis.set_major_formatter` or\n`~.Axis.set_minor_formatter`.\n\nThe first two examples directly pass a ``str`` or function.\n\n"
      ]
    },
    {
      "cell_type": "code",
      "execution_count": null,
      "metadata": {
        "collapsed": false
      },
      "outputs": [],
      "source": [
        "fig0, axs0 = plt.subplots(2, 1, figsize=(8, 2))\nfig0.suptitle('Simple Formatting')\n\n# A ``str``, using format string function syntax, can be used directly as a\n# formatter.  The variable ``x`` is the tick value and the variable ``pos`` is\n# tick position.  This creates a StrMethodFormatter automatically.\nsetup(axs0[0], title=\"'{x} km'\")\naxs0[0].xaxis.set_major_formatter('{x} km')\n\n# A function can also be used directly as a formatter. The function must take\n# two arguments: ``x`` for the tick value and ``pos`` for the tick position,\n# and must return a ``str``. This creates a FuncFormatter automatically.\nsetup(axs0[1], title=\"lambda x, pos: str(x-5)\")\naxs0[1].xaxis.set_major_formatter(lambda x, pos: str(x-5))\n\nfig0.tight_layout()"
      ]
    },
    {
      "cell_type": "markdown",
      "metadata": {},
      "source": [
        "The remaining examples use `.Formatter` objects.\n\n"
      ]
    },
    {
      "cell_type": "code",
      "execution_count": null,
      "metadata": {
        "collapsed": false
      },
      "outputs": [],
      "source": [
        "fig1, axs1 = plt.subplots(7, 1, figsize=(8, 6))\nfig1.suptitle('Formatter Object Formatting')\n\n# Null formatter\nsetup(axs1[0], title=\"NullFormatter()\")\naxs1[0].xaxis.set_major_formatter(ticker.NullFormatter())\n\n# StrMethod formatter\nsetup(axs1[1], title=\"StrMethodFormatter('{x:.3f}')\")\naxs1[1].xaxis.set_major_formatter(ticker.StrMethodFormatter(\"{x:.3f}\"))\n\n\n# FuncFormatter can be used as a decorator\n@ticker.FuncFormatter\ndef major_formatter(x, pos):\n    return f'[{x:.2f}]'\n\n\nsetup(axs1[2], title='FuncFormatter(\"[{:.2f}]\".format)')\naxs1[2].xaxis.set_major_formatter(major_formatter)\n\n# Fixed formatter\nsetup(axs1[3], title=\"FixedFormatter(['A', 'B', 'C', ...])\")\n# FixedFormatter should only be used together with FixedLocator.\n# Otherwise, one cannot be sure where the labels will end up.\npositions = [0, 1, 2, 3, 4, 5]\nlabels = ['A', 'B', 'C', 'D', 'E', 'F']\naxs1[3].xaxis.set_major_locator(ticker.FixedLocator(positions))\naxs1[3].xaxis.set_major_formatter(ticker.FixedFormatter(labels))\n\n# Scalar formatter\nsetup(axs1[4], title=\"ScalarFormatter()\")\naxs1[4].xaxis.set_major_formatter(ticker.ScalarFormatter(useMathText=True))\n\n# FormatStr formatter\nsetup(axs1[5], title=\"FormatStrFormatter('#%d')\")\naxs1[5].xaxis.set_major_formatter(ticker.FormatStrFormatter(\"#%d\"))\n\n# Percent formatter\nsetup(axs1[6], title=\"PercentFormatter(xmax=5)\")\naxs1[6].xaxis.set_major_formatter(ticker.PercentFormatter(xmax=5))\n\nfig1.tight_layout()\nplt.show()"
      ]
    },
    {
      "cell_type": "markdown",
      "metadata": {},
      "source": [
        ".. admonition:: References\n\n   The use of the following functions, methods, classes and modules is shown\n   in this example:\n\n   - `matplotlib.pyplot.subplots`\n   - `matplotlib.axes.Axes.text`\n   - `matplotlib.axis.Axis.set_major_formatter`\n   - `matplotlib.axis.Axis.set_major_locator`\n   - `matplotlib.axis.Axis.set_minor_locator`\n   - `matplotlib.axis.XAxis.set_ticks_position`\n   - `matplotlib.axis.YAxis.set_ticks_position`\n   - `matplotlib.ticker.FixedFormatter`\n   - `matplotlib.ticker.FixedLocator`\n   - `matplotlib.ticker.FormatStrFormatter`\n   - `matplotlib.ticker.FuncFormatter`\n   - `matplotlib.ticker.MultipleLocator`\n   - `matplotlib.ticker.NullFormatter`\n   - `matplotlib.ticker.NullLocator`\n   - `matplotlib.ticker.PercentFormatter`\n   - `matplotlib.ticker.ScalarFormatter`\n   - `matplotlib.ticker.StrMethodFormatter`\n\n"
      ]
    }
  ],
  "metadata": {
    "kernelspec": {
      "display_name": "Python 3",
      "language": "python",
      "name": "python3"
    },
    "language_info": {
      "codemirror_mode": {
        "name": "ipython",
        "version": 3
      },
      "file_extension": ".py",
      "mimetype": "text/x-python",
      "name": "python",
      "nbconvert_exporter": "python",
      "pygments_lexer": "ipython3",
      "version": "3.8.12"
    }
  },
  "nbformat": 4,
  "nbformat_minor": 0
}