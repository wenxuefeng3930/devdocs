{
  "cells": [
    {
      "cell_type": "code",
      "execution_count": null,
      "metadata": {
        "collapsed": false
      },
      "outputs": [],
      "source": [
        "%matplotlib inline"
      ]
    },
    {
      "cell_type": "markdown",
      "metadata": {},
      "source": [
        "\n# Image Thumbnail\n\nYou can use Matplotlib to generate thumbnails from existing images.\nMatplotlib relies on Pillow_ for reading images, and thus supports all formats\nsupported by Pillow.\n\n"
      ]
    },
    {
      "cell_type": "code",
      "execution_count": null,
      "metadata": {
        "collapsed": false
      },
      "outputs": [],
      "source": [
        "from argparse import ArgumentParser\nfrom pathlib import Path\nimport sys\nimport matplotlib.image as image\n\n\nparser = ArgumentParser(\n    description=\"Build thumbnails of all images in a directory.\")\nparser.add_argument(\"imagedir\", type=Path)\nargs = parser.parse_args()\nif not args.imagedir.isdir():\n    sys.exit(f\"Could not find input directory {args.imagedir}\")\n\noutdir = Path(\"thumbs\")\noutdir.mkdir(parents=True, exist_ok=True)\n\nfor path in args.imagedir.glob(\"*.png\"):\n    outpath = outdir / path.name\n    fig = image.thumbnail(path, outpath, scale=0.15)\n    print(f\"saved thumbnail of {path} to {outpath}\")"
      ]
    }
  ],
  "metadata": {
    "kernelspec": {
      "display_name": "Python 3",
      "language": "python",
      "name": "python3"
    },
    "language_info": {
      "codemirror_mode": {
        "name": "ipython",
        "version": 3
      },
      "file_extension": ".py",
      "mimetype": "text/x-python",
      "name": "python",
      "nbconvert_exporter": "python",
      "pygments_lexer": "ipython3",
      "version": "3.8.12"
    }
  },
  "nbformat": 4,
  "nbformat_minor": 0
}