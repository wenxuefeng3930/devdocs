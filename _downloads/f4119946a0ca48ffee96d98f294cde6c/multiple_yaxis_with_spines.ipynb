{
  "cells": [
    {
      "cell_type": "code",
      "execution_count": null,
      "metadata": {
        "collapsed": false
      },
      "outputs": [],
      "source": [
        "%matplotlib inline"
      ]
    },
    {
      "cell_type": "markdown",
      "metadata": {},
      "source": [
        "\n# Multiple Yaxis With Spines\n\nCreate multiple y axes with a shared x axis. This is done by creating\na `~.axes.Axes.twinx` axes, turning all spines but the right one invisible\nand offset its position using `~.spines.Spine.set_position`.\n\nNote that this approach uses `matplotlib.axes.Axes` and their\n`~matplotlib.spines.Spine`\\s. An alternative approach for parasite\naxes is shown in the :doc:`/gallery/axisartist/demo_parasite_axes` and\n:doc:`/gallery/axisartist/demo_parasite_axes2` examples.\n"
      ]
    },
    {
      "cell_type": "code",
      "execution_count": null,
      "metadata": {
        "collapsed": false
      },
      "outputs": [],
      "source": [
        "import matplotlib.pyplot as plt\n\n\nfig, ax = plt.subplots()\nfig.subplots_adjust(right=0.75)\n\ntwin1 = ax.twinx()\ntwin2 = ax.twinx()\n\n# Offset the right spine of twin2.  The ticks and label have already been\n# placed on the right by twinx above.\ntwin2.spines.right.set_position((\"axes\", 1.2))\n\np1, = ax.plot([0, 1, 2], [0, 1, 2], \"b-\", label=\"Density\")\np2, = twin1.plot([0, 1, 2], [0, 3, 2], \"r-\", label=\"Temperature\")\np3, = twin2.plot([0, 1, 2], [50, 30, 15], \"g-\", label=\"Velocity\")\n\nax.set_xlim(0, 2)\nax.set_ylim(0, 2)\ntwin1.set_ylim(0, 4)\ntwin2.set_ylim(1, 65)\n\nax.set_xlabel(\"Distance\")\nax.set_ylabel(\"Density\")\ntwin1.set_ylabel(\"Temperature\")\ntwin2.set_ylabel(\"Velocity\")\n\nax.yaxis.label.set_color(p1.get_color())\ntwin1.yaxis.label.set_color(p2.get_color())\ntwin2.yaxis.label.set_color(p3.get_color())\n\ntkw = dict(size=4, width=1.5)\nax.tick_params(axis='y', colors=p1.get_color(), **tkw)\ntwin1.tick_params(axis='y', colors=p2.get_color(), **tkw)\ntwin2.tick_params(axis='y', colors=p3.get_color(), **tkw)\nax.tick_params(axis='x', **tkw)\n\nax.legend(handles=[p1, p2, p3])\n\nplt.show()"
      ]
    }
  ],
  "metadata": {
    "kernelspec": {
      "display_name": "Python 3",
      "language": "python",
      "name": "python3"
    },
    "language_info": {
      "codemirror_mode": {
        "name": "ipython",
        "version": 3
      },
      "file_extension": ".py",
      "mimetype": "text/x-python",
      "name": "python",
      "nbconvert_exporter": "python",
      "pygments_lexer": "ipython3",
      "version": "3.8.12"
    }
  },
  "nbformat": 4,
  "nbformat_minor": 0
}