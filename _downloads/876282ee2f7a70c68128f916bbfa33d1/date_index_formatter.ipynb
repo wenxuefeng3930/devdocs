{
  "cells": [
    {
      "cell_type": "code",
      "execution_count": null,
      "metadata": {
        "collapsed": false
      },
      "outputs": [],
      "source": [
        "%matplotlib inline"
      ]
    },
    {
      "cell_type": "markdown",
      "metadata": {},
      "source": [
        "\n# Custom tick formatter for time series\n\nWhen plotting time series, e.g., financial time series, one often wants\nto leave out days on which there is no data, i.e. weekends.  The example\nbelow shows how to use an 'index formatter' to achieve the desired plot\n"
      ]
    },
    {
      "cell_type": "code",
      "execution_count": null,
      "metadata": {
        "collapsed": false
      },
      "outputs": [],
      "source": [
        "import numpy as np\nimport matplotlib.pyplot as plt\nimport matplotlib.cbook as cbook\n\n# Load a numpy record array from yahoo csv data with fields date, open, close,\n# volume, adj_close from the mpl-data/example directory. The record array\n# stores the date as an np.datetime64 with a day unit ('D') in the date column.\nr = (cbook.get_sample_data('goog.npz', np_load=True)['price_data']\n     .view(np.recarray))\nr = r[-30:]  # get the last 30 days\n\n# first we'll do it the default way, with gaps on weekends\nfig, (ax1, ax2) = plt.subplots(ncols=2, figsize=(8, 4))\nax1.plot(r.date, r.adj_close, 'o-')\nax1.set_title(\"Default\")\nfig.autofmt_xdate()\n\n# next we'll write a custom formatter\nN = len(r)\nind = np.arange(N)  # the evenly spaced plot indices\n\n\ndef format_date(x, pos=None):\n    thisind = np.clip(int(x + 0.5), 0, N - 1)\n    return r.date[thisind].item().strftime('%Y-%m-%d')\n\n\nax2.plot(ind, r.adj_close, 'o-')\n# Use automatic FuncFormatter creation\nax2.xaxis.set_major_formatter(format_date)\nax2.set_title(\"Custom tick formatter\")\nfig.autofmt_xdate()\n\nplt.show()"
      ]
    },
    {
      "cell_type": "markdown",
      "metadata": {},
      "source": [
        ".. admonition:: References\n\n   The use of the following functions, methods, classes and modules is shown\n   in this example:\n\n   - `matplotlib.pyplot.subplots`\n   - `matplotlib.axis.Axis.set_major_formatter`\n   - `matplotlib.cbook.get_sample_data`\n   - `matplotlib.ticker.FuncFormatter`\n\n"
      ]
    }
  ],
  "metadata": {
    "kernelspec": {
      "display_name": "Python 3",
      "language": "python",
      "name": "python3"
    },
    "language_info": {
      "codemirror_mode": {
        "name": "ipython",
        "version": 3
      },
      "file_extension": ".py",
      "mimetype": "text/x-python",
      "name": "python",
      "nbconvert_exporter": "python",
      "pygments_lexer": "ipython3",
      "version": "3.8.12"
    }
  },
  "nbformat": 4,
  "nbformat_minor": 0
}