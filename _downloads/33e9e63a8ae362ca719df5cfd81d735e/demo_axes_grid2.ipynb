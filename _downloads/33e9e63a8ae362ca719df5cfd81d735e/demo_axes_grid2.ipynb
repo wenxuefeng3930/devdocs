{
  "cells": [
    {
      "cell_type": "code",
      "execution_count": null,
      "metadata": {
        "collapsed": false
      },
      "outputs": [],
      "source": [
        "%matplotlib inline"
      ]
    },
    {
      "cell_type": "markdown",
      "metadata": {},
      "source": [
        "\n# Axes Grid2\n\nGrid of images with shared xaxis and yaxis.\n"
      ]
    },
    {
      "cell_type": "code",
      "execution_count": null,
      "metadata": {
        "collapsed": false
      },
      "outputs": [],
      "source": [
        "import numpy as np\nfrom matplotlib import cbook\nimport matplotlib.colors\nimport matplotlib.pyplot as plt\nfrom mpl_toolkits.axes_grid1 import ImageGrid\n\n\ndef add_inner_title(ax, title, loc, **kwargs):\n    from matplotlib.offsetbox import AnchoredText\n    from matplotlib.patheffects import withStroke\n    prop = dict(path_effects=[withStroke(foreground='w', linewidth=3)],\n                size=plt.rcParams['legend.fontsize'])\n    at = AnchoredText(title, loc=loc, prop=prop,\n                      pad=0., borderpad=0.5,\n                      frameon=False, **kwargs)\n    ax.add_artist(at)\n    return at\n\n\nfig = plt.figure(figsize=(6, 6))\n\n# Prepare images\nZ = cbook.get_sample_data(\"axes_grid/bivariate_normal.npy\", np_load=True)\nextent = (-3, 4, -4, 3)\nZS = [Z[i::3, :] for i in range(3)]\nextent = extent[0], extent[1]/3., extent[2], extent[3]\n\n# *** Demo 1: colorbar at each axes ***\ngrid = ImageGrid(fig, 211,  # similar to subplot(211)\n                 nrows_ncols=(1, 3),\n                 axes_pad=0.05,\n                 label_mode=\"1\",\n                 share_all=True,\n                 cbar_location=\"top\",\n                 cbar_mode=\"each\",\n                 cbar_size=\"7%\",\n                 cbar_pad=\"1%\",\n                 )\n\nfor i, (ax, z) in enumerate(zip(grid, ZS)):\n    im = ax.imshow(z, origin=\"lower\", extent=extent)\n    cb = ax.cax.colorbar(im)\n    # Changing the colorbar ticks\n    if i in [1, 2]:\n        cb.set_ticks([-1, 0, 1])\n\nfor ax, im_title in zip(grid, [\"Image 1\", \"Image 2\", \"Image 3\"]):\n    t = add_inner_title(ax, im_title, loc='lower left')\n    t.patch.set_alpha(0.5)\n\nfor ax, z in zip(grid, ZS):\n    ax.cax.toggle_label(True)\n\ngrid[0].set_xticks([-2, 0])\ngrid[0].set_yticks([-2, 0, 2])\n\n# *** Demo 2: shared colorbar ***\ngrid2 = ImageGrid(fig, 212,\n                  nrows_ncols=(1, 3),\n                  axes_pad=0.05,\n                  label_mode=\"1\",\n                  share_all=True,\n                  cbar_location=\"right\",\n                  cbar_mode=\"single\",\n                  cbar_size=\"10%\",\n                  cbar_pad=0.05,\n                  )\n\ngrid2[0].set_xlabel(\"X\")\ngrid2[0].set_ylabel(\"Y\")\n\nvmax, vmin = np.max(ZS), np.min(ZS)\nnorm = matplotlib.colors.Normalize(vmax=vmax, vmin=vmin)\n\nfor ax, z in zip(grid2, ZS):\n    im = ax.imshow(z, norm=norm, origin=\"lower\", extent=extent)\n\n# With cbar_mode=\"single\", cax attribute of all axes are identical.\nax.cax.colorbar(im)\nax.cax.toggle_label(True)\n\nfor ax, im_title in zip(grid2, [\"(a)\", \"(b)\", \"(c)\"]):\n    t = add_inner_title(ax, im_title, loc='upper left')\n    t.patch.set_ec(\"none\")\n    t.patch.set_alpha(0.5)\n\ngrid2[0].set_xticks([-2, 0])\ngrid2[0].set_yticks([-2, 0, 2])\n\nplt.show()"
      ]
    }
  ],
  "metadata": {
    "kernelspec": {
      "display_name": "Python 3",
      "language": "python",
      "name": "python3"
    },
    "language_info": {
      "codemirror_mode": {
        "name": "ipython",
        "version": 3
      },
      "file_extension": ".py",
      "mimetype": "text/x-python",
      "name": "python",
      "nbconvert_exporter": "python",
      "pygments_lexer": "ipython3",
      "version": "3.8.12"
    }
  },
  "nbformat": 4,
  "nbformat_minor": 0
}