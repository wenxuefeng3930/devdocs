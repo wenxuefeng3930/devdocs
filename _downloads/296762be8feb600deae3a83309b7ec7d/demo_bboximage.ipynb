{
  "cells": [
    {
      "cell_type": "code",
      "execution_count": null,
      "metadata": {
        "collapsed": false
      },
      "outputs": [],
      "source": [
        "%matplotlib inline"
      ]
    },
    {
      "cell_type": "markdown",
      "metadata": {},
      "source": [
        "\n# BboxImage Demo\n\nA `~matplotlib.image.BboxImage` can be used to position an image according to\na bounding box. This demo shows how to show an image inside a `.text.Text`'s\nbounding box as well as how to manually create a bounding box for the image.\n"
      ]
    },
    {
      "cell_type": "code",
      "execution_count": null,
      "metadata": {
        "collapsed": false
      },
      "outputs": [],
      "source": [
        "import matplotlib.pyplot as plt\nimport numpy as np\nfrom matplotlib.image import BboxImage\nfrom matplotlib.transforms import Bbox, TransformedBbox\n\n\nfig, (ax1, ax2) = plt.subplots(ncols=2)\n\n# ----------------------------\n# Create a BboxImage with Text\n# ----------------------------\ntxt = ax1.text(0.5, 0.5, \"test\", size=30, ha=\"center\", color=\"w\")\nkwargs = dict()\n\nbbox_image = BboxImage(txt.get_window_extent,\n                       norm=None,\n                       origin=None,\n                       clip_on=False,\n                       **kwargs\n                       )\na = np.arange(256).reshape(1, 256)/256.\nbbox_image.set_data(a)\nax1.add_artist(bbox_image)\n\n# ------------------------------------\n# Create a BboxImage for each colormap\n# ------------------------------------\na = np.linspace(0, 1, 256).reshape(1, -1)\na = np.vstack((a, a))\n\n# List of all colormaps; skip reversed colormaps.\ncmap_names = sorted(m for m in plt.colormaps if not m.endswith(\"_r\"))\n\nncol = 2\nnrow = len(cmap_names) // ncol + 1\n\nxpad_fraction = 0.3\ndx = 1 / (ncol + xpad_fraction * (ncol - 1))\n\nypad_fraction = 0.3\ndy = 1 / (nrow + ypad_fraction * (nrow - 1))\n\nfor i, cmap_name in enumerate(cmap_names):\n    ix, iy = divmod(i, nrow)\n\n    bbox0 = Bbox.from_bounds(ix*dx*(1 + xpad_fraction),\n                             1. - iy*dy*(1 + ypad_fraction) - dy,\n                             dx, dy)\n    bbox = TransformedBbox(bbox0, ax2.transAxes)\n\n    bbox_image = BboxImage(bbox,\n                           cmap=cmap_name,\n                           norm=None,\n                           origin=None,\n                           **kwargs\n                           )\n\n    bbox_image.set_data(a)\n    ax2.add_artist(bbox_image)\n\nplt.show()"
      ]
    },
    {
      "cell_type": "markdown",
      "metadata": {},
      "source": [
        ".. admonition:: References\n\n   The use of the following functions, methods, classes and modules is shown\n   in this example:\n\n   - `matplotlib.image.BboxImage`\n   - `matplotlib.transforms.Bbox`\n   - `matplotlib.transforms.TransformedBbox`\n   - `matplotlib.text.Text`\n\n"
      ]
    }
  ],
  "metadata": {
    "kernelspec": {
      "display_name": "Python 3",
      "language": "python",
      "name": "python3"
    },
    "language_info": {
      "codemirror_mode": {
        "name": "ipython",
        "version": 3
      },
      "file_extension": ".py",
      "mimetype": "text/x-python",
      "name": "python",
      "nbconvert_exporter": "python",
      "pygments_lexer": "ipython3",
      "version": "3.8.12"
    }
  },
  "nbformat": 4,
  "nbformat_minor": 0
}