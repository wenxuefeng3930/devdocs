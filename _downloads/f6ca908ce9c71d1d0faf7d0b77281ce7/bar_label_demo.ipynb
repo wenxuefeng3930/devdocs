{
  "cells": [
    {
      "cell_type": "code",
      "execution_count": null,
      "metadata": {
        "collapsed": false
      },
      "outputs": [],
      "source": [
        "%matplotlib inline"
      ]
    },
    {
      "cell_type": "markdown",
      "metadata": {},
      "source": [
        "\n# Bar Label Demo\n\nThis example shows how to use the `~.Axes.bar_label` helper function\nto create bar chart labels.\n\nSee also the :doc:`grouped bar\n</gallery/lines_bars_and_markers/barchart>`,\n:doc:`stacked bar\n</gallery/lines_bars_and_markers/bar_stacked>` and\n:doc:`horizontal bar chart\n</gallery/lines_bars_and_markers/barh>` examples.\n"
      ]
    },
    {
      "cell_type": "code",
      "execution_count": null,
      "metadata": {
        "collapsed": false
      },
      "outputs": [],
      "source": [
        "import matplotlib.pyplot as plt\nimport numpy as np"
      ]
    },
    {
      "cell_type": "markdown",
      "metadata": {},
      "source": [
        "Define the data\n\n"
      ]
    },
    {
      "cell_type": "code",
      "execution_count": null,
      "metadata": {
        "collapsed": false
      },
      "outputs": [],
      "source": [
        "N = 5\nmenMeans = (20, 35, 30, 35, -27)\nwomenMeans = (25, 32, 34, 20, -25)\nmenStd = (2, 3, 4, 1, 2)\nwomenStd = (3, 5, 2, 3, 3)\nind = np.arange(N)    # the x locations for the groups\nwidth = 0.35       # the width of the bars: can also be len(x) sequence"
      ]
    },
    {
      "cell_type": "markdown",
      "metadata": {},
      "source": [
        "Stacked bar plot with error bars\n\n"
      ]
    },
    {
      "cell_type": "code",
      "execution_count": null,
      "metadata": {
        "collapsed": false
      },
      "outputs": [],
      "source": [
        "fig, ax = plt.subplots()\n\np1 = ax.bar(ind, menMeans, width, yerr=menStd, label='Men')\np2 = ax.bar(ind, womenMeans, width,\n            bottom=menMeans, yerr=womenStd, label='Women')\n\nax.axhline(0, color='grey', linewidth=0.8)\nax.set_ylabel('Scores')\nax.set_title('Scores by group and gender')\nax.set_xticks(ind, labels=['G1', 'G2', 'G3', 'G4', 'G5'])\nax.legend()\n\n# Label with label_type 'center' instead of the default 'edge'\nax.bar_label(p1, label_type='center')\nax.bar_label(p2, label_type='center')\nax.bar_label(p2)\n\nplt.show()"
      ]
    },
    {
      "cell_type": "markdown",
      "metadata": {},
      "source": [
        "Horizontal bar chart\n\n"
      ]
    },
    {
      "cell_type": "code",
      "execution_count": null,
      "metadata": {
        "collapsed": false
      },
      "outputs": [],
      "source": [
        "# Fixing random state for reproducibility\nnp.random.seed(19680801)\n\n# Example data\npeople = ('Tom', 'Dick', 'Harry', 'Slim', 'Jim')\ny_pos = np.arange(len(people))\nperformance = 3 + 10 * np.random.rand(len(people))\nerror = np.random.rand(len(people))\n\nfig, ax = plt.subplots()\n\nhbars = ax.barh(y_pos, performance, xerr=error, align='center')\nax.set_yticks(y_pos, labels=people)\nax.invert_yaxis()  # labels read top-to-bottom\nax.set_xlabel('Performance')\nax.set_title('How fast do you want to go today?')\n\n# Label with specially formatted floats\nax.bar_label(hbars, fmt='%.2f')\nax.set_xlim(right=15)  # adjust xlim to fit labels\n\nplt.show()"
      ]
    },
    {
      "cell_type": "markdown",
      "metadata": {},
      "source": [
        "Some of the more advanced things that one can do with bar labels\n\n"
      ]
    },
    {
      "cell_type": "code",
      "execution_count": null,
      "metadata": {
        "collapsed": false
      },
      "outputs": [],
      "source": [
        "fig, ax = plt.subplots()\n\nhbars = ax.barh(y_pos, performance, xerr=error, align='center')\nax.set_yticks(y_pos, labels=people)\nax.invert_yaxis()  # labels read top-to-bottom\nax.set_xlabel('Performance')\nax.set_title('How fast do you want to go today?')\n\n# Label with given captions, custom padding and annotate options\nax.bar_label(hbars, labels=['\u00b1%.2f' % e for e in error],\n             padding=8, color='b', fontsize=14)\nax.set_xlim(right=16)\n\nplt.show()"
      ]
    },
    {
      "cell_type": "markdown",
      "metadata": {},
      "source": [
        ".. admonition:: References\n\n   The use of the following functions, methods, classes and modules is shown\n   in this example:\n\n   - `matplotlib.axes.Axes.bar` / `matplotlib.pyplot.bar`\n   - `matplotlib.axes.Axes.barh` / `matplotlib.pyplot.barh`\n   - `matplotlib.axes.Axes.bar_label` / `matplotlib.pyplot.bar_label`\n\n"
      ]
    }
  ],
  "metadata": {
    "kernelspec": {
      "display_name": "Python 3",
      "language": "python",
      "name": "python3"
    },
    "language_info": {
      "codemirror_mode": {
        "name": "ipython",
        "version": 3
      },
      "file_extension": ".py",
      "mimetype": "text/x-python",
      "name": "python",
      "nbconvert_exporter": "python",
      "pygments_lexer": "ipython3",
      "version": "3.8.12"
    }
  },
  "nbformat": 4,
  "nbformat_minor": 0
}