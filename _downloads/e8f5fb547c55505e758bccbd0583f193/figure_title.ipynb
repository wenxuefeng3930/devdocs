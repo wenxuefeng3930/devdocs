{
  "cells": [
    {
      "cell_type": "code",
      "execution_count": null,
      "metadata": {
        "collapsed": false
      },
      "outputs": [],
      "source": [
        "%matplotlib inline"
      ]
    },
    {
      "cell_type": "markdown",
      "metadata": {},
      "source": [
        "\n# Figure labels: suptitle, supxlabel, supylabel\n\nEach axes can have a title (or actually three - one each with *loc* \"left\",\n\"center\", and \"right\"), but is sometimes desirable to give a whole figure\n(or `.SubFigure`) an overall title, using `.FigureBase.suptitle`.\n\nWe can also add figure-level x- and y-labels using `.FigureBase.supxlabel` and\n`.FigureBase.supylabel`.\n"
      ]
    },
    {
      "cell_type": "code",
      "execution_count": null,
      "metadata": {
        "collapsed": false
      },
      "outputs": [],
      "source": [
        "from matplotlib.cbook import get_sample_data\nimport matplotlib.pyplot as plt\n\nimport numpy as np\n\n\nx = np.linspace(0.0, 5.0, 501)\n\nfig, (ax1, ax2) = plt.subplots(1, 2, constrained_layout=True, sharey=True)\nax1.plot(x, np.cos(6*x) * np.exp(-x))\nax1.set_title('damped')\nax1.set_xlabel('time (s)')\nax1.set_ylabel('amplitude')\n\nax2.plot(x, np.cos(6*x))\nax2.set_xlabel('time (s)')\nax2.set_title('undamped')\n\nfig.suptitle('Different types of oscillations', fontsize=16)"
      ]
    },
    {
      "cell_type": "markdown",
      "metadata": {},
      "source": [
        "A global x- or y-label can be set using the `.FigureBase.supxlabel` and\n`.FigureBase.supylabel` methods.\n\n"
      ]
    },
    {
      "cell_type": "code",
      "execution_count": null,
      "metadata": {
        "collapsed": false
      },
      "outputs": [],
      "source": [
        "fig, axs = plt.subplots(3, 5, figsize=(8, 5), constrained_layout=True,\n                        sharex=True, sharey=True)\n\nfname = get_sample_data('percent_bachelors_degrees_women_usa.csv',\n                        asfileobj=False)\ngender_degree_data = np.genfromtxt(fname, delimiter=',', names=True)\n\nmajors = ['Health Professions', 'Public Administration', 'Education',\n          'Psychology', 'Foreign Languages', 'English',\n          'Art and Performance', 'Biology',\n          'Agriculture', 'Business',\n          'Math and Statistics', 'Architecture', 'Physical Sciences',\n          'Computer Science', 'Engineering']\n\nfor nn, ax in enumerate(axs.flat):\n    ax.set_xlim(1969.5, 2011.1)\n    column = majors[nn]\n    column_rec_name = column.replace('\\n', '_').replace(' ', '_')\n\n    line, = ax.plot('Year', column_rec_name, data=gender_degree_data,\n                    lw=2.5)\n    ax.set_title(column, fontsize='small', loc='left')\n    ax.set_ylim([0, 100])\n    ax.grid()\nfig.supxlabel('Year')\nfig.supylabel('Percent Degrees Awarded To Women')\n\nplt.show()"
      ]
    }
  ],
  "metadata": {
    "kernelspec": {
      "display_name": "Python 3",
      "language": "python",
      "name": "python3"
    },
    "language_info": {
      "codemirror_mode": {
        "name": "ipython",
        "version": 3
      },
      "file_extension": ".py",
      "mimetype": "text/x-python",
      "name": "python",
      "nbconvert_exporter": "python",
      "pygments_lexer": "ipython3",
      "version": "3.8.12"
    }
  },
  "nbformat": 4,
  "nbformat_minor": 0
}