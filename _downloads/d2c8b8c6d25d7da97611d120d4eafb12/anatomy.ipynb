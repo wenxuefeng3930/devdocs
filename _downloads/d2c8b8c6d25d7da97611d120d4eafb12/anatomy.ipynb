{
  "cells": [
    {
      "cell_type": "code",
      "execution_count": null,
      "metadata": {
        "collapsed": false
      },
      "outputs": [],
      "source": [
        "%matplotlib inline"
      ]
    },
    {
      "cell_type": "markdown",
      "metadata": {},
      "source": [
        "\n# Anatomy of a figure\n\nThis figure shows the name of several matplotlib elements composing a figure\n"
      ]
    },
    {
      "cell_type": "code",
      "execution_count": null,
      "metadata": {
        "collapsed": false
      },
      "outputs": [],
      "source": [
        "import numpy as np\nimport matplotlib.pyplot as plt\nfrom matplotlib.patches import Circle, Rectangle\nfrom matplotlib.patheffects import withStroke\nfrom matplotlib.ticker import AutoMinorLocator, MultipleLocator\n\nroyal_blue = \"#002082\"\nroyal_blue = [0, 20/256, 82/256]\n\n# make the figure\n\nnp.random.seed(19680801)\n\nX = np.linspace(0.5, 3.5, 100)\nY1 = 3+np.cos(X)\nY2 = 1+np.cos(1+X/0.75)/2\nY3 = np.random.uniform(Y1, Y2, len(X))\n\nfig = plt.figure(figsize=(8, 8), facecolor='1')\nmarg = 0.15\nax = fig.add_axes([marg, marg, 1-1.8*marg, 1-1.8*marg], aspect=1,\n                  facecolor='1')\n\n\ndef minor_tick(x, pos):\n    if not x % 1.0:\n        return \"\"\n    return f\"{x:.2f}\"\n\nax.xaxis.set_major_locator(MultipleLocator(1.000))\nax.xaxis.set_minor_locator(AutoMinorLocator(4))\nax.yaxis.set_major_locator(MultipleLocator(1.000))\nax.yaxis.set_minor_locator(AutoMinorLocator(4))\n# FuncFormatter is created and used automatically\nax.xaxis.set_minor_formatter(minor_tick)\n\nax.set_xlim(0, 4)\nax.set_ylim(0, 4)\n\nax.tick_params(which='major', width=1.0, labelsize=14)\nax.tick_params(which='major', length=10, labelsize=14)\nax.tick_params(which='minor', width=1.0, labelsize=10)\nax.tick_params(which='minor', length=5, labelsize=10, labelcolor='0.25')\n\nax.grid(linestyle=\"--\", linewidth=0.5, color='.25', zorder=-10)\n\nax.plot(X, Y1, c='C0', lw=2.5, label=\"Blue signal\", zorder=10)\nax.plot(X, Y2, c='C1', lw=2.5, label=\"Orange signal\")\nax.plot(X[::3], Y3[::3], linewidth=0, markersize=9,\n        marker='s', markerfacecolor='none', markeredgecolor='C4',\n        markeredgewidth=2.5)\n\nax.set_title(\"Anatomy of a figure\", fontsize=20, verticalalignment='bottom')\nax.set_xlabel(\"x Axis label\", fontsize=14)\nax.set_ylabel(\"y Axis label\", fontsize=14)\n\nax.legend(loc=\"upper right\", fontsize=14)\n\n# Annotate the figure\n\n\ndef just_circle(x, y, radius=0.15):\n    c = Circle((x, y), radius, clip_on=False, zorder=10, linewidth=2.5,\n               edgecolor=royal_blue + [0.6], facecolor='none',\n               path_effects=[withStroke(linewidth=7, foreground=(1, 1, 1, 1))])\n    ax.add_artist(c)\n\n\ndef text(x, y, text):\n    ax.text(x, y, text, zorder=100,\n            ha='center', va='top', weight='bold', color=royal_blue,\n            style='italic', fontfamily='monospace',\n            path_effects=[withStroke(linewidth=7, foreground=(1, 1, 1, 1))])\n\n\ndef code(x, y, text):\n    ax.text(x, y, text, zorder=100,\n            ha='center', va='top', weight='normal', color='0.0',\n            fontfamily='Courier New', fontsize='medium',\n            path_effects=[withStroke(linewidth=7, foreground=(1, 1, 1, 1))])\n\n\ndef circle(x, y, txt, cde, radius=0.15):\n    just_circle(x, y, radius=radius)\n    text(x, y-0.2, txt)\n    code(x, y-0.33, cde)\n\n# Minor tick label\ncircle(3.25, -0.10, \"Minor tick label\",\n       \"ax.xaxis.set_minor_formatter\")\n\n# Major tick\ncircle(-0.03, 1.05, \"Major tick\", \"ax.yaxis.set_major_locator\")\n\n# Minor tick\ny = 3.75\ncircle(0.00, 3.75, \"Minor tick\", \"ax.yaxis.set_minor_locator\")\n\n# Major tick label\ncircle(-0.15, 3.00, \"Major tick label\", \"ax.yaxis.set_major_formatter\")\n\n# X Label\ncircle(1.90, -0.32, \"xlabel\", \"ax.set_xlabel\")\n\n# Y Label\ncircle(-0.27, 1.68, \"ylabel\", \"ax.set_ylabel\")\n\n# Title\ncircle(1.58, 4.13, \"Title\", \"ax.set_title\")\n\n# Blue plot\ncircle(1.75, 2.80, \"Line\", \"ax.plot\")\n\n# Scatter plot\ncircle(2.25, 1.54, \"Markers\", \"ax.scatter\")\n\n# Grid\ncircle(3.00, 3.00, \"Grid\", \"ax.grid\")\n\n# Legend\ncircle(3.60, 3.65, \"Legend\", \"ax.legend\")\n\n# Axes\ncircle(2.5, 0.55, \"Axes\", \"fig.subplots\")\n\n# Figure\ncircle(4.185, 4.3, \"Figure\", \"plt.figure\")\n\n# x Axis\ncircle(0.65, 0.01, \"x Axis\", \"ax.xaxis\")\n\n# y Axis\ncircle(0, 0.44, \"y Axis\", \"ax.yaxis\")\n\n# Spine\ncircle(4.0, 0.7, \"Spine\", \"ax.spines\")\n\n# frame around figure...\nfig.add_artist(Rectangle((0, 0), width=1, height=1, facecolor='none',\n               edgecolor='0.5', linewidth=10))\n\nplt.show()"
      ]
    },
    {
      "cell_type": "markdown",
      "metadata": {},
      "source": [
        ".. admonition:: References\n\n   The use of the following functions, methods, classes and modules is shown\n   in this example:\n\n   - `matplotlib.pyplot.figure`\n   - `matplotlib.axes.Axes.text`\n   - `matplotlib.axis.Axis.set_minor_formatter`\n   - `matplotlib.axis.Axis.set_major_locator`\n   - `matplotlib.axis.Axis.set_minor_locator`\n   - `matplotlib.patches.Circle`\n   - `matplotlib.patheffects.withStroke`\n   - `matplotlib.ticker.FuncFormatter`\n\n"
      ]
    }
  ],
  "metadata": {
    "kernelspec": {
      "display_name": "Python 3",
      "language": "python",
      "name": "python3"
    },
    "language_info": {
      "codemirror_mode": {
        "name": "ipython",
        "version": 3
      },
      "file_extension": ".py",
      "mimetype": "text/x-python",
      "name": "python",
      "nbconvert_exporter": "python",
      "pygments_lexer": "ipython3",
      "version": "3.8.12"
    }
  },
  "nbformat": 4,
  "nbformat_minor": 0
}