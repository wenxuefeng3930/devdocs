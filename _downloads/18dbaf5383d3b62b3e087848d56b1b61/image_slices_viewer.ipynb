{
  "cells": [
    {
      "cell_type": "code",
      "execution_count": null,
      "metadata": {
        "collapsed": false
      },
      "outputs": [],
      "source": [
        "%matplotlib inline"
      ]
    },
    {
      "cell_type": "markdown",
      "metadata": {},
      "source": [
        "\n# Image Slices Viewer\n\nScroll through 2D image slices of a 3D array.\n\n<div class=\"alert alert-info\"><h4>Note</h4><p>This example exercises the interactive capabilities of Matplotlib, and this\n    will not appear in the static documentation. Please run this code on your\n    machine to see the interactivity.\n\n    You can copy and paste individual parts, or download the entire example\n    using the link at the bottom of the page.</p></div>\n"
      ]
    },
    {
      "cell_type": "code",
      "execution_count": null,
      "metadata": {
        "collapsed": false
      },
      "outputs": [],
      "source": [
        "import numpy as np\nimport matplotlib.pyplot as plt\n\n\n# Fixing random state for reproducibility\nnp.random.seed(19680801)\n\n\nclass IndexTracker:\n    def __init__(self, ax, X):\n        self.ax = ax\n        ax.set_title('use scroll wheel to navigate images')\n\n        self.X = X\n        rows, cols, self.slices = X.shape\n        self.ind = self.slices//2\n\n        self.im = ax.imshow(self.X[:, :, self.ind])\n        self.update()\n\n    def on_scroll(self, event):\n        print(\"%s %s\" % (event.button, event.step))\n        if event.button == 'up':\n            self.ind = (self.ind + 1) % self.slices\n        else:\n            self.ind = (self.ind - 1) % self.slices\n        self.update()\n\n    def update(self):\n        self.im.set_data(self.X[:, :, self.ind])\n        self.ax.set_ylabel('slice %s' % self.ind)\n        self.im.axes.figure.canvas.draw()\n\n\nfig, ax = plt.subplots(1, 1)\n\nX = np.random.rand(20, 20, 40)\n\ntracker = IndexTracker(ax, X)\n\n\nfig.canvas.mpl_connect('scroll_event', tracker.on_scroll)\nplt.show()"
      ]
    }
  ],
  "metadata": {
    "kernelspec": {
      "display_name": "Python 3",
      "language": "python",
      "name": "python3"
    },
    "language_info": {
      "codemirror_mode": {
        "name": "ipython",
        "version": 3
      },
      "file_extension": ".py",
      "mimetype": "text/x-python",
      "name": "python",
      "nbconvert_exporter": "python",
      "pygments_lexer": "ipython3",
      "version": "3.8.12"
    }
  },
  "nbformat": 4,
  "nbformat_minor": 0
}